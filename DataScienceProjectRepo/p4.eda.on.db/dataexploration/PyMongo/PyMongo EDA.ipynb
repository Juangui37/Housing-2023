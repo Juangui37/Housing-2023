{
 "cells": [
  {
   "cell_type": "code",
   "execution_count": 1,
   "metadata": {},
   "outputs": [
    {
     "name": "stdout",
     "output_type": "stream",
     "text": [
      "Pinged your deployment. You successfully connected to MongoDB!\n"
     ]
    }
   ],
   "source": [
    "from pymongo.mongo_client import MongoClient\n",
    "from pymongo.server_api import ServerApi\n",
    "import ssl\n",
    "\n",
    "uri = \"(<MongoDBString>n",
    "\n",
    "# Create a new client and connect to the server\n",
    "client = MongoClient(uri, server_api=ServerApi('1'), tls=True,\n",
    "                             tlsAllowInvalidCertificates=True)\n",
    "\n",
    "# Send a ping to confirm a successful connection\n",
    "try:\n",
    "    client.admin.command('ping')\n",
    "    print(\"Pinged your deployment. You successfully connected to MongoDB!\")\n",
    "except Exception as e:\n",
    "    print(e)\n"
   ]
  },
  {
   "cell_type": "code",
   "execution_count": 2,
   "metadata": {},
   "outputs": [],
   "source": [
    "db = client.get_database('housing')\n"
   ]
  },
  {
   "cell_type": "code",
   "execution_count": 3,
   "metadata": {},
   "outputs": [],
   "source": [
    "propertyinfo = db.get_collection('propertyinfo')\n"
   ]
  },
  {
   "cell_type": "code",
   "execution_count": 4,
   "metadata": {},
   "outputs": [],
   "source": [
    "realtorlisting = db.get_collection('realtorlisting')"
   ]
  },
  {
   "cell_type": "code",
   "execution_count": 5,
   "metadata": {},
   "outputs": [],
   "source": [
    "realtor = db.get_collection('realtor')\n"
   ]
  },
  {
   "cell_type": "code",
   "execution_count": 6,
   "metadata": {},
   "outputs": [],
   "source": [
    "import pandas as pd"
   ]
  },
  {
   "cell_type": "code",
   "execution_count": 7,
   "metadata": {},
   "outputs": [],
   "source": [
    "\n",
    "# Define the aggregation pipeline\n",
    "pipeline = [\n",
    "    {\n",
    "        '$lookup': {\n",
    "            'from': 'realtorlisting',\n",
    "            'localField': 'MLSNum',\n",
    "            'foreignField': 'MLSNum',\n",
    "            'as': 'listings'\n",
    "        }\n",
    "    },\n",
    "    {\n",
    "        '$unwind': '$listings'\n",
    "    },\n",
    "    {\n",
    "        '$lookup': {\n",
    "            'from': 'realtor',\n",
    "            'localField': 'listings.AgentID',\n",
    "            'foreignField': 'AgentID',\n",
    "            'as': 'realtor'\n",
    "        }\n",
    "    },\n",
    "    {\n",
    "        '$unwind': '$realtor'\n",
    "    },\n",
    "    {\n",
    "        '$project': {\n",
    "            '_id': 0,\n",
    "            'MLSNum': 1,\n",
    "            'Status': 1,\n",
    "            'StatusChangeTimestamp': 1,\n",
    "            'PropType': 1,\n",
    "            'ListPrice': 1,\n",
    "            'ClosePrice': 1,\n",
    "            'Address': 1,\n",
    "            'City': 1,\n",
    "            'Acres': 1,\n",
    "            'SqFtTotal': 1,\n",
    "            'SqFtEstHeatedAboveGrade': 1,\n",
    "            'StyleorRentType': 1,\n",
    "            'RoomsTotal': 1,\n",
    "            'BedsTotal': 1,\n",
    "            'Bathrooms': 1,\n",
    "            'Garage/Park': 1,\n",
    "            'YearBuilt': 1,\n",
    "            'DaysonMarket': 1,\n",
    "            'AgentID': '$realtor.AgentID',\n",
    "            'Name': '$realtor.Name',\n",
    "            'PhoneNumber': '$realtor.PhoneNumber',\n",
    "            'Email': '$realtor.Email'\n",
    "        }\n",
    "    }\n",
    "]\n",
    "\n",
    "# Aggregate the data\n",
    "result = list(propertyinfo.aggregate(pipeline))\n",
    "\n",
    "# Convert the result to a Pandas DataFrame\n",
    "df = pd.DataFrame(result)\n",
    "\n",
    "# Export the DataFrame to a CSV file\n",
    "df.to_csv('merged_data.csv', index=False)\n"
   ]
  },
  {
   "cell_type": "code",
   "execution_count": 8,
   "metadata": {},
   "outputs": [],
   "source": [
    "client.close()\n"
   ]
  },
  {
   "cell_type": "code",
   "execution_count": null,
   "metadata": {},
   "outputs": [],
   "source": [
    "import pandas as pd\n",
    "import matplotlib.pyplot as plt\n",
    "\n",
    "# Read in the CSV file with your df\n",
    "df = pd.read_csv('MySQLMergedData.csv')\n",
    "\n",
    "# Check the number of rows and columns\n",
    "print(\"Number of rows and columns:\", df.shape)\n",
    "\n",
    "# Display the first 5 rows of the df\n",
    "print(\"First 5 rows of the df:\")\n",
    "print(df.head())\n",
    "\n",
    "# Check for missing values\n",
    "print(\"Number of missing values in each column:\")\n",
    "print(df.isnull().sum())\n",
    "\n",
    "# Summary statistics for numeric variables\n",
    "print(\"Summary statistics for numeric variables:\")\n",
    "print(df.describe())\n",
    "\n",
    "# Distribution of each numeric variable\n",
    "for col in df.select_dtypes(include=['int64', 'float64']):\n",
    "    plt.figure()\n",
    "    df[col].plot(kind='hist')\n",
    "    plt.title(col)\n",
    "\n",
    "# Bar chart of each categorical variable\n",
    "for col in df.select_dtypes(include=['object']):\n",
    "    plt.figure()\n",
    "    df[col].value_counts().plot(kind='bar')\n",
    "    plt.title(col)\n",
    "\n",
    "# Correlation matrix of numeric variables\n",
    "corr = df.corr()\n",
    "plt.figure()\n",
    "plt.matshow(corr)\n",
    "plt.xticks(range(len(corr.columns)), corr.columns)\n",
    "plt.yticks(range(len(corr.columns)), corr.columns)\n",
    "plt.colorbar()\n",
    "\n",
    "# Scatterplot of two numeric variables\n",
    "plt.figure()\n",
    "plt.scatter(df['ListPrice'], df['ClosePrice'])\n",
    "plt.xlabel('ListPrice')\n",
    "plt.ylabel('ClosePrice')\n",
    "plt.title('ListPrice vs ClosePrice')\n",
    "\n",
    "plt.show()\n"
   ]
  }
 ],
 "metadata": {
  "kernelspec": {
   "display_name": "Python 3",
   "language": "python",
   "name": "python3"
  },
  "language_info": {
   "codemirror_mode": {
    "name": "ipython",
    "version": 3
   },
   "file_extension": ".py",
   "mimetype": "text/x-python",
   "name": "python",
   "nbconvert_exporter": "python",
   "pygments_lexer": "ipython3",
   "version": "3.11.3 (v3.11.3:f3909b8bc8, Apr  4 2023, 20:12:10) [Clang 13.0.0 (clang-1300.0.29.30)]"
  },
  "orig_nbformat": 4,
  "vscode": {
   "interpreter": {
    "hash": "aee8b7b246df8f9039afb4144a1f6fd8d2ca17a180786b69acc140d282b71a49"
   }
  }
 },
 "nbformat": 4,
 "nbformat_minor": 2
}
